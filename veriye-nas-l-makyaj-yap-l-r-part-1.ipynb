{
 "cells": [
  {
   "cell_type": "markdown",
   "id": "34a3b77d",
   "metadata": {
    "_cell_guid": "b1076dfc-b9ad-4769-8c92-a6c4dae69d19",
    "_uuid": "8f2839f25d086af736a60e9eeb907d3b93b6e0e5",
    "execution": {
     "iopub.execute_input": "2022-10-29T09:49:42.416019Z",
     "iopub.status.busy": "2022-10-29T09:49:42.415543Z",
     "iopub.status.idle": "2022-10-29T09:49:42.441319Z",
     "shell.execute_reply": "2022-10-29T09:49:42.440508Z",
     "shell.execute_reply.started": "2022-10-29T09:49:42.415923Z"
    },
    "papermill": {
     "duration": 0.015175,
     "end_time": "2023-01-23T11:58:58.180093",
     "exception": false,
     "start_time": "2023-01-23T11:58:58.164918",
     "status": "completed"
    },
    "tags": []
   },
   "source": [
    "# Veriye nasıl makyaj yapılır? (Part-1)"
   ]
  },
  {
   "cell_type": "markdown",
   "id": "e428a71d",
   "metadata": {
    "papermill": {
     "duration": 0.016763,
     "end_time": "2023-01-23T11:58:58.211368",
     "exception": false,
     "start_time": "2023-01-23T11:58:58.194605",
     "status": "completed"
    },
    "tags": []
   },
   "source": [
    "Farz edinki bir iş toplantısındasınız.Karşınıza şöyle bir rapor görmek mi istersiniz:"
   ]
  },
  {
   "cell_type": "markdown",
   "id": "42277f06",
   "metadata": {
    "papermill": {
     "duration": 0.01354,
     "end_time": "2023-01-23T11:58:58.238490",
     "exception": false,
     "start_time": "2023-01-23T11:58:58.224950",
     "status": "completed"
    },
    "tags": []
   },
   "source": [
    "![](https://cdn-images-1.medium.com/max/1000/1*wgGS_4dYjwqQXBL9QP-bPw.png)"
   ]
  },
  {
   "cell_type": "markdown",
   "id": "ec015cd1",
   "metadata": {
    "papermill": {
     "duration": 0.013111,
     "end_time": "2023-01-23T11:58:58.265078",
     "exception": false,
     "start_time": "2023-01-23T11:58:58.251967",
     "status": "completed"
    },
    "tags": []
   },
   "source": [
    "Veya böyle bir rapor mu:"
   ]
  },
  {
   "cell_type": "markdown",
   "id": "b2d9ce49",
   "metadata": {
    "papermill": {
     "duration": 0.013123,
     "end_time": "2023-01-23T11:58:58.291891",
     "exception": false,
     "start_time": "2023-01-23T11:58:58.278768",
     "status": "completed"
    },
    "tags": []
   },
   "source": [
    "![](https://cdn-images-1.medium.com/max/1000/1*IPlL1Cu1tle-mE7PgrUlrg.png)"
   ]
  },
  {
   "cell_type": "markdown",
   "id": "b4b1aa4a",
   "metadata": {
    "papermill": {
     "duration": 0.013408,
     "end_time": "2023-01-23T11:58:58.319400",
     "exception": false,
     "start_time": "2023-01-23T11:58:58.305992",
     "status": "completed"
    },
    "tags": []
   },
   "source": [
    "Tabikide herkes ikinciyi ister. İşte bu sebeple verilerimize makyaj yapmayı öğrenmeliyiz."
   ]
  },
  {
   "cell_type": "markdown",
   "id": "810ea047",
   "metadata": {
    "papermill": {
     "duration": 0.013851,
     "end_time": "2023-01-23T11:58:58.346774",
     "exception": false,
     "start_time": "2023-01-23T11:58:58.332923",
     "status": "completed"
    },
    "tags": []
   },
   "source": [
    "![](https://cdn-images-1.medium.com/max/1000/0*NI7CSnpNDxFskPIb)\n",
    "- [Unsplash](https://unsplash.com/?utm_source=medium&utm_medium=referral)'de [Laura Chouette](https://unsplash.com/@laurachouette?utm_source=medium&utm_medium=referral) tarafından bir fotoğraf "
   ]
  },
  {
   "cell_type": "markdown",
   "id": "399fab7b",
   "metadata": {
    "papermill": {
     "duration": 0.013214,
     "end_time": "2023-01-23T11:58:58.374033",
     "exception": false,
     "start_time": "2023-01-23T11:58:58.360819",
     "status": "completed"
    },
    "tags": []
   },
   "source": [
    "## İçindekiler\n",
    "- Matplotlib tanıtım\n",
    "- Çizgi grafiği(Line chart)\n",
    "- İşaretleyiciler, renkler ve grafiği kaydetme\n",
    "- Dağılım grafiği (Scatter plot)\n",
    "- Histogram\n",
    "- Kutu grafiği (Box plot)\n",
    "- Titanic verisetini kullanarak örnek gösterme"
   ]
  },
  {
   "cell_type": "markdown",
   "id": "b888236f",
   "metadata": {
    "papermill": {
     "duration": 0.013727,
     "end_time": "2023-01-23T11:58:58.401840",
     "exception": false,
     "start_time": "2023-01-23T11:58:58.388113",
     "status": "completed"
    },
    "tags": []
   },
   "source": [
    "## **Python'da nasıl grafik oluşturulur?**"
   ]
  },
  {
   "cell_type": "markdown",
   "id": "dc00c18a",
   "metadata": {
    "papermill": {
     "duration": 0.013254,
     "end_time": "2023-01-23T11:58:58.428744",
     "exception": false,
     "start_time": "2023-01-23T11:58:58.415490",
     "status": "completed"
    },
    "tags": []
   },
   "source": [
    "> # *matplotlib*"
   ]
  },
  {
   "cell_type": "markdown",
   "id": "7448761c",
   "metadata": {
    "papermill": {
     "duration": 0.013275,
     "end_time": "2023-01-23T11:58:58.456159",
     "exception": false,
     "start_time": "2023-01-23T11:58:58.442884",
     "status": "completed"
    },
    "tags": []
   },
   "source": [
    "![](https://cdn-images-1.medium.com/max/1000/1*JbJuvbQ3xnX4q5Zcdhclqw.png)"
   ]
  },
  {
   "cell_type": "markdown",
   "id": "e79a279d",
   "metadata": {
    "papermill": {
     "duration": 0.013338,
     "end_time": "2023-01-23T11:58:58.483541",
     "exception": false,
     "start_time": "2023-01-23T11:58:58.470203",
     "status": "completed"
    },
    "tags": []
   },
   "source": [
    "**matplotlib**, grafik yapmamıza yardımcı olan bir kütüphanedir.\n",
    "\n",
    "\n",
    "Kaggle platformunda yapılan son ankete göre,çoğu insan veri görselleştirmek için **matplotlib** ve **seaborn** kullanıyor. \n",
    "\n",
    "\n",
    "Bu yazıda size nasıl **matplotlib** kütüphanesini kullanıcağımızı ve nasıl verileri görselleştireceğimizi göstericem. Bir sonraki yazımızda, **seaborn** kütüphanesini nasıl kullanıcağımızı göstericem."
   ]
  },
  {
   "cell_type": "markdown",
   "id": "2c04acf2",
   "metadata": {
    "papermill": {
     "duration": 0.013174,
     "end_time": "2023-01-23T11:58:58.510126",
     "exception": false,
     "start_time": "2023-01-23T11:58:58.496952",
     "status": "completed"
    },
    "tags": []
   },
   "source": [
    "![](https://cdn-images-1.medium.com/max/1000/1*A9Hl4O3PEWKS3zkzqq_jhw.png)\n",
    "- Sizinde görebilceğiniz üzere **matplotlib** veri görselleştirmede kullanılan en  önemli  kütüphanelerdendir."
   ]
  },
  {
   "cell_type": "markdown",
   "id": "c4113f23",
   "metadata": {
    "papermill": {
     "duration": 0.013418,
     "end_time": "2023-01-23T11:58:58.537231",
     "exception": false,
     "start_time": "2023-01-23T11:58:58.523813",
     "status": "completed"
    },
    "tags": []
   },
   "source": [
    "[**Anketin kaynağı**](https://www.kaggle.com/competitions/kaggle-survey-2022/data)\n",
    "\n",
    "\n",
    "---"
   ]
  },
  {
   "cell_type": "markdown",
   "id": "982ef860",
   "metadata": {
    "papermill": {
     "duration": 0.013193,
     "end_time": "2023-01-23T11:58:58.564076",
     "exception": false,
     "start_time": "2023-01-23T11:58:58.550883",
     "status": "completed"
    },
    "tags": []
   },
   "source": [
    "Başlamadan önce bu notebookun bloğunu [**Medium hesabımdan**](https://medium.com/@ahmettalhabektas_tr/veriye-nas%C4%B1l-makyaj-yap%C4%B1l%C4%B1r-part-1-a6324e0c2fdb) bulabilirsiniz."
   ]
  },
  {
   "cell_type": "markdown",
   "id": "222690fb",
   "metadata": {
    "papermill": {
     "duration": 0.013317,
     "end_time": "2023-01-23T11:58:58.591891",
     "exception": false,
     "start_time": "2023-01-23T11:58:58.578574",
     "status": "completed"
    },
    "tags": []
   },
   "source": [
    "### Hadi **matplotlib** kütüphanesini import edelim!"
   ]
  },
  {
   "cell_type": "code",
   "execution_count": 1,
   "id": "8f83ab0b",
   "metadata": {
    "execution": {
     "iopub.execute_input": "2023-01-23T11:58:58.621760Z",
     "iopub.status.busy": "2023-01-23T11:58:58.621123Z",
     "iopub.status.idle": "2023-01-23T11:58:58.637822Z",
     "shell.execute_reply": "2023-01-23T11:58:58.636513Z"
    },
    "papermill": {
     "duration": 0.035431,
     "end_time": "2023-01-23T11:58:58.641037",
     "exception": false,
     "start_time": "2023-01-23T11:58:58.605606",
     "status": "completed"
    },
    "tags": []
   },
   "outputs": [],
   "source": [
    "import matplotlib.pyplot as plt\n",
    "%matplotlib inline"
   ]
  },
  {
   "cell_type": "markdown",
   "id": "db331d02",
   "metadata": {
    "papermill": {
     "duration": 0.015582,
     "end_time": "2023-01-23T11:58:58.670781",
     "exception": false,
     "start_time": "2023-01-23T11:58:58.655199",
     "status": "completed"
    },
    "tags": []
   },
   "source": [
    "### Ve elbetteki NumPy kütüphanesi;"
   ]
  },
  {
   "cell_type": "code",
   "execution_count": 2,
   "id": "54845a46",
   "metadata": {
    "execution": {
     "iopub.execute_input": "2023-01-23T11:58:58.699494Z",
     "iopub.status.busy": "2023-01-23T11:58:58.699077Z",
     "iopub.status.idle": "2023-01-23T11:58:58.703683Z",
     "shell.execute_reply": "2023-01-23T11:58:58.702832Z"
    },
    "papermill": {
     "duration": 0.021554,
     "end_time": "2023-01-23T11:58:58.705818",
     "exception": false,
     "start_time": "2023-01-23T11:58:58.684264",
     "status": "completed"
    },
    "tags": []
   },
   "outputs": [],
   "source": [
    "import numpy as np"
   ]
  },
  {
   "cell_type": "markdown",
   "id": "975d30aa",
   "metadata": {
    "papermill": {
     "duration": 0.012996,
     "end_time": "2023-01-23T11:58:58.732099",
     "exception": false,
     "start_time": "2023-01-23T11:58:58.719103",
     "status": "completed"
    },
    "tags": []
   },
   "source": [
    "### Son olarak random kütüphanesi import edelim;"
   ]
  },
  {
   "cell_type": "code",
   "execution_count": 3,
   "id": "820ee996",
   "metadata": {
    "execution": {
     "iopub.execute_input": "2023-01-23T11:58:58.760999Z",
     "iopub.status.busy": "2023-01-23T11:58:58.760351Z",
     "iopub.status.idle": "2023-01-23T11:58:58.764494Z",
     "shell.execute_reply": "2023-01-23T11:58:58.763605Z"
    },
    "papermill": {
     "duration": 0.021793,
     "end_time": "2023-01-23T11:58:58.767229",
     "exception": false,
     "start_time": "2023-01-23T11:58:58.745436",
     "status": "completed"
    },
    "tags": []
   },
   "outputs": [],
   "source": [
    "import random"
   ]
  },
  {
   "cell_type": "markdown",
   "id": "aac98fc3",
   "metadata": {
    "papermill": {
     "duration": 0.013719,
     "end_time": "2023-01-23T11:58:58.794331",
     "exception": false,
     "start_time": "2023-01-23T11:58:58.780612",
     "status": "completed"
    },
    "tags": []
   },
   "source": [
    "### Grafik için rastgele değerler oluşturalım!"
   ]
  },
  {
   "cell_type": "code",
   "execution_count": 4,
   "id": "21732328",
   "metadata": {
    "execution": {
     "iopub.execute_input": "2023-01-23T11:58:58.824676Z",
     "iopub.status.busy": "2023-01-23T11:58:58.823837Z",
     "iopub.status.idle": "2023-01-23T11:58:58.829515Z",
     "shell.execute_reply": "2023-01-23T11:58:58.828418Z"
    },
    "papermill": {
     "duration": 0.023108,
     "end_time": "2023-01-23T11:58:58.832002",
     "exception": false,
     "start_time": "2023-01-23T11:58:58.808894",
     "status": "completed"
    },
    "tags": []
   },
   "outputs": [],
   "source": [
    "x = np.arange(20)\n",
    "#20 tane 0 ile 19 arasında değerler veriyoruz\n",
    "y = np.random.normal(10, 1, 20)\n",
    "#Ortalamaları 10, standart sapması 1 olan 20 tane rastgele sayı oluşturuyor.\n",
    "z = np.random.normal(10, 2, 20)\n",
    "#Ortalamaları 10, standart sapması 2 olan 20 tane rastgele sayı oluşturuyor."
   ]
  },
  {
   "cell_type": "markdown",
   "id": "1d16330a",
   "metadata": {
    "papermill": {
     "duration": 0.013054,
     "end_time": "2023-01-23T11:58:58.859428",
     "exception": false,
     "start_time": "2023-01-23T11:58:58.846374",
     "status": "completed"
    },
    "tags": []
   },
   "source": [
    "Bu kodları çalıştırdığınızda rastgele sayılar üretir bu yüzden farklı sonuçlarla karşılaşmamız çok normaldir."
   ]
  },
  {
   "cell_type": "markdown",
   "id": "37176fbe",
   "metadata": {
    "papermill": {
     "duration": 0.013636,
     "end_time": "2023-01-23T11:58:58.886797",
     "exception": false,
     "start_time": "2023-01-23T11:58:58.873161",
     "status": "completed"
    },
    "tags": []
   },
   "source": [
    "> # ***Çizgi grafiği (Line chart)***"
   ]
  },
  {
   "cell_type": "markdown",
   "id": "bb3c7f51",
   "metadata": {
    "papermill": {
     "duration": 0.01461,
     "end_time": "2023-01-23T11:58:58.915689",
     "exception": false,
     "start_time": "2023-01-23T11:58:58.901079",
     "status": "completed"
    },
    "tags": []
   },
   "source": [
    "**Çizgi grafik**, birden fazla kategori için aynı zaman dilimindeki küçük veya uzun farkları görmek için kullandığımız bir grafik türüdür."
   ]
  },
  {
   "cell_type": "markdown",
   "id": "0bd8f751",
   "metadata": {
    "papermill": {
     "duration": 0.014867,
     "end_time": "2023-01-23T11:58:58.944115",
     "exception": false,
     "start_time": "2023-01-23T11:58:58.929248",
     "status": "completed"
    },
    "tags": []
   },
   "source": [
    "### Hadi örnek yapalım!"
   ]
  },
  {
   "cell_type": "code",
   "execution_count": 5,
   "id": "b8de1418",
   "metadata": {
    "execution": {
     "iopub.execute_input": "2023-01-23T11:58:58.974891Z",
     "iopub.status.busy": "2023-01-23T11:58:58.974312Z",
     "iopub.status.idle": "2023-01-23T11:58:59.254953Z",
     "shell.execute_reply": "2023-01-23T11:58:59.253633Z"
    },
    "papermill": {
     "duration": 0.300098,
     "end_time": "2023-01-23T11:58:59.257811",
     "exception": false,
     "start_time": "2023-01-23T11:58:58.957713",
     "status": "completed"
    },
    "tags": []
   },
   "outputs": [
    {
     "data": {
      "text/plain": [
       "Text(0, 0.5, 'y')"
      ]
     },
     "execution_count": 5,
     "metadata": {},
     "output_type": "execute_result"
    },
    {
     "data": {
      "image/png": "[encoded data removed]",
      "text/plain": [
       "<Figure size 432x288 with 1 Axes>"
      ]
     },
     "metadata": {
      "needs_background": "light"
     },
     "output_type": "display_data"
    }
   ],
   "source": [
    "fig = plt.figure()\n",
    "#Şekil, tablo veya grafik yapmak için gereklidir.\n",
    "\n",
    "ax=fig.add_subplot(111) \n",
    "# 1 satır (ilk sayı) ve 1 sütun (ikinci sayı) var ve bunlardan birinci grafik (üçüncü sayı)... \n",
    "#Tam anlamamış olmamanız normal ilerideki örneklerde anlayacaksınız.\n",
    "\n",
    "ax.plot(x,y)\n",
    "#Bir line chart oluştur ve x değerlerini x eksenine ve y değerlerini y eksenine koy.\n",
    "\n",
    "ax.set_title(\"Line chart\")\n",
    "#Grafiğe başlık olarak \"Line chart\" koy\n",
    "\n",
    "ax.set_xlabel(\"x\")\n",
    "#X eksenine \"x\" diye başlık koy.\n",
    "\n",
    "ax.set_ylabel(\"y\")\n",
    "#Y eksenine \"y\" diye başlık koy."
   ]
  },
  {
   "cell_type": "markdown",
   "id": "66db213f",
   "metadata": {
    "papermill": {
     "duration": 0.014276,
     "end_time": "2023-01-23T11:58:59.286652",
     "exception": false,
     "start_time": "2023-01-23T11:58:59.272376",
     "status": "completed"
    },
    "tags": []
   },
   "source": [
    "#### *Veya x değerlerini birden fazla kategoriye göre tanımlayabiliriz!*"
   ]
  },
  {
   "cell_type": "markdown",
   "id": "78c9185c",
   "metadata": {
    "papermill": {
     "duration": 0.014194,
     "end_time": "2023-01-23T11:58:59.314945",
     "exception": false,
     "start_time": "2023-01-23T11:58:59.300751",
     "status": "completed"
    },
    "tags": []
   },
   "source": [
    "### Hadi örnek verelim!"
   ]
  },
  {
   "cell_type": "code",
   "execution_count": 6,
   "id": "39be7c09",
   "metadata": {
    "execution": {
     "iopub.execute_input": "2023-01-23T11:58:59.347245Z",
     "iopub.status.busy": "2023-01-23T11:58:59.346530Z",
     "iopub.status.idle": "2023-01-23T11:58:59.614449Z",
     "shell.execute_reply": "2023-01-23T11:58:59.612972Z"
    },
    "papermill": {
     "duration": 0.287491,
     "end_time": "2023-01-23T11:58:59.617407",
     "exception": false,
     "start_time": "2023-01-23T11:58:59.329916",
     "status": "completed"
    },
    "tags": []
   },
   "outputs": [
    {
     "data": {
      "text/plain": [
       "<matplotlib.legend.Legend at 0x7ffb4f667290>"
      ]
     },
     "execution_count": 6,
     "metadata": {},
     "output_type": "execute_result"
    },
    {
     "data": {
      "image/png": "[encoded data removed]",
      "text/plain": [
       "<Figure size 432x288 with 1 Axes>"
      ]
     },
     "metadata": {
      "needs_background": "light"
     },
     "output_type": "display_data"
    }
   ],
   "source": [
    "fig = plt.figure()\n",
    "\n",
    "ax=fig.add_subplot(111)\n",
    "\n",
    "ax.plot(x,y,label=\"Thing # 1\")\n",
    "#x değerlerinin y değerlerine göre karşılaştırılmasına \"Thing # 1\" diye isimlendiriyoruz.\n",
    "\n",
    "ax.plot(x,z,label=\"Thing # 2\")\n",
    "#x değerlerinin z değerlerine göre karşılaştırılmasına \"Thing # 2\" diye isimlendiriyoruz.\n",
    "\n",
    "ax.legend()\n",
    "#Lejant (İşaretler tablosu) ekler."
   ]
  },
  {
   "cell_type": "markdown",
   "id": "b873c81e",
   "metadata": {
    "papermill": {
     "duration": 0.014984,
     "end_time": "2023-01-23T11:58:59.647976",
     "exception": false,
     "start_time": "2023-01-23T11:58:59.632992",
     "status": "completed"
    },
    "tags": []
   },
   "source": [
    "# İşaretleyici kullanmak!"
   ]
  },
  {
   "cell_type": "markdown",
   "id": "a606ef0d",
   "metadata": {
    "papermill": {
     "duration": 0.015391,
     "end_time": "2023-01-23T11:58:59.678712",
     "exception": false,
     "start_time": "2023-01-23T11:58:59.663321",
     "status": "completed"
    },
    "tags": []
   },
   "source": [
    "Değerleri daha iyi görmek için işaretleyicileri kullanıyoruz.\n",
    "Aşagıdaki işaretleyicileri kullanabilrsiniz:"
   ]
  },
  {
   "cell_type": "markdown",
   "id": "47bccd42",
   "metadata": {
    "papermill": {
     "duration": 0.014705,
     "end_time": "2023-01-23T11:58:59.708058",
     "exception": false,
     "start_time": "2023-01-23T11:58:59.693353",
     "status": "completed"
    },
    "tags": []
   },
   "source": [
    "- ``\".\"`` point işaretcisi\n",
    "- ``\",\"`` pixel işaretcisi\n",
    "- ``\"o\"`` circle işaretcisi\n",
    "- ``\"v\"`` triangel_down işaretcisi\n",
    "- ``\"^\"`` triangel_up işaretcisi\n",
    "- ``\"<\"`` triangel_left işaretcisi\n",
    "- ``\">\"`` triangel_right işaretcisi\n",
    "- ``\"1\"`` tri_down işaretcisi\n",
    "- ``\"2\"`` tri_up işaretcisi\n",
    "- ``\"3\"`` tri_left işaretcisi\n",
    "- ``\"4\"`` tri_right işaretcisi\n",
    "- ``\"8\"`` octagon işaretcisi\n",
    "- ``\"s\"`` square işaretcisi\n",
    "- ``\"p\"`` pentagon işaretcisi\n",
    "- ``\"P\"`` plus (filled) işaretcisi\n",
    "- ``\"*\"`` star işaretcisi\n",
    "- ``\"h\"`` hexagon1 işaretcisi\n",
    "- ``\"H\"`` hexagon2 işaretcisi\n",
    "- ``\"+\"`` plus işaretcisi\n",
    "- ``\"x\"`` x işaretcisi\n",
    "- ``\"X\"`` x (filled) işaretcisi\n",
    "- ``\"D\"`` diamond işaretcisi\n",
    "- ``\"d\"`` thin_diamond işaretcisi\n",
    "- ``\"|\"`` vline işaretcisi\n",
    "- ``\"_\"`` hline işaretcisi\n",
    "\n",
    "![](https://cdn-images-1.medium.com/max/1000/0*ytS9sP_v3pe4X6qQ.png)"
   ]
  },
  {
   "cell_type": "markdown",
   "id": "b66d196a",
   "metadata": {
    "papermill": {
     "duration": 0.014273,
     "end_time": "2023-01-23T11:58:59.738638",
     "exception": false,
     "start_time": "2023-01-23T11:58:59.724365",
     "status": "completed"
    },
    "tags": []
   },
   "source": [
    "### Renkleri kullanmak!\n",
    "\n",
    "\n",
    "Şu renkleri kullanabilirsiniz:"
   ]
  },
  {
   "cell_type": "markdown",
   "id": "4e374efe",
   "metadata": {
    "papermill": {
     "duration": 0.014081,
     "end_time": "2023-01-23T11:58:59.767281",
     "exception": false,
     "start_time": "2023-01-23T11:58:59.753200",
     "status": "completed"
    },
    "tags": []
   },
   "source": [
    "- ``\"b\"`` blue, mavi\n",
    "- ``\"g\"`` green, yeşil\n",
    "- ``\"r\"`` red, kırmızı\n",
    "- ``\"c\"`` cyan, camgöbeği\n",
    "- ``\"m\"`` magenta, eflatun\n",
    "- ``\"y\"`` yellow, sarı\n",
    "- ``\"k\"`` black, siyah\n",
    "- ``\"w\"`` white, beyaz"
   ]
  },
  {
   "cell_type": "markdown",
   "id": "192eb1a1",
   "metadata": {
    "papermill": {
     "duration": 0.014917,
     "end_time": "2023-01-23T11:58:59.798085",
     "exception": false,
     "start_time": "2023-01-23T11:58:59.783168",
     "status": "completed"
    },
    "tags": []
   },
   "source": [
    "### Grafiği kaydetme!\n",
    "\n",
    "\n",
    "**.savefig(\"filename.png\", dpi=integer)** fonksiyonunu kullanıcaz."
   ]
  },
  {
   "cell_type": "markdown",
   "id": "5ed0821e",
   "metadata": {
    "papermill": {
     "duration": 0.014763,
     "end_time": "2023-01-23T11:58:59.827764",
     "exception": false,
     "start_time": "2023-01-23T11:58:59.813001",
     "status": "completed"
    },
    "tags": []
   },
   "source": [
    "### Hadi örnek yapalım!"
   ]
  },
  {
   "cell_type": "code",
   "execution_count": 7,
   "id": "13b7f3d0",
   "metadata": {
    "execution": {
     "iopub.execute_input": "2023-01-23T11:58:59.860346Z",
     "iopub.status.busy": "2023-01-23T11:58:59.859558Z",
     "iopub.status.idle": "2023-01-23T11:59:00.396279Z",
     "shell.execute_reply": "2023-01-23T11:59:00.394841Z"
    },
    "papermill": {
     "duration": 0.556305,
     "end_time": "2023-01-23T11:59:00.399276",
     "exception": false,
     "start_time": "2023-01-23T11:58:59.842971",
     "status": "completed"
    },
    "tags": []
   },
   "outputs": [
    {
     "data": {
      "image/png": "[encoded data removed]",
      "text/plain": [
       "<Figure size 432x288 with 1 Axes>"
      ]
     },
     "metadata": {
      "needs_background": "light"
     },
     "output_type": "display_data"
    }
   ],
   "source": [
    "fig = plt.figure()\n",
    "\n",
    "ax=fig.add_subplot(111) \n",
    "\n",
    "ax.plot(x,y,marker=\".\",c=\"b\")\n",
    "#Bir line chart oluştur, işaretci olarak point marker ve renk olarak maviyi kullan.\n",
    "\n",
    "ax.set_title(\"Line chart\")\n",
    "\n",
    "ax.set_xlabel(\"x\",fontsize=30)\n",
    "# fontsize= başlığın büyüklüğünü ayarlar\n",
    "\n",
    "ax.set_ylabel(\"y\",fontsize=20)\n",
    "\n",
    "fig.savefig(\"ilkgrafim.png\",dpi=300)\n",
    "#Grafiği kaydeder\n",
    "#dpi resimin çözünürlüğünü ayarlar."
   ]
  },
  {
   "cell_type": "markdown",
   "id": "47eec03a",
   "metadata": {
    "papermill": {
     "duration": 0.015463,
     "end_time": "2023-01-23T11:59:00.430628",
     "exception": false,
     "start_time": "2023-01-23T11:59:00.415165",
     "status": "completed"
    },
    "tags": []
   },
   "source": [
    "> # ***Dağılım grafiği (Scatter plot)***\n",
    "\n"
   ]
  },
  {
   "cell_type": "markdown",
   "id": "fcca6a66",
   "metadata": {
    "papermill": {
     "duration": 0.014692,
     "end_time": "2023-01-23T11:59:00.460206",
     "exception": false,
     "start_time": "2023-01-23T11:59:00.445514",
     "status": "completed"
    },
    "tags": []
   },
   "source": [
    "\n",
    "Bir değişkenin diğerine bağlı olup olmadığını belirlemek veya iki değişken arasındaki ilişkiyi belirlemek için, **dağılım grafiği** adı verilen özel bir grafik türü kullanırız."
   ]
  },
  {
   "cell_type": "markdown",
   "id": "b987909f",
   "metadata": {
    "papermill": {
     "duration": 0.014633,
     "end_time": "2023-01-23T11:59:00.490388",
     "exception": false,
     "start_time": "2023-01-23T11:59:00.475755",
     "status": "completed"
    },
    "tags": []
   },
   "source": [
    "> # ***Histogram***"
   ]
  },
  {
   "cell_type": "markdown",
   "id": "bd268c57",
   "metadata": {
    "papermill": {
     "duration": 0.014703,
     "end_time": "2023-01-23T11:59:00.519952",
     "exception": false,
     "start_time": "2023-01-23T11:59:00.505249",
     "status": "completed"
    },
    "tags": []
   },
   "source": [
    "Bir değişkenin nasıl dağıldığını göstermek için **histogram** adı verilen belirli bir grafik türü kullanırız."
   ]
  },
  {
   "cell_type": "markdown",
   "id": "b75a000f",
   "metadata": {
    "papermill": {
     "duration": 0.015166,
     "end_time": "2023-01-23T11:59:00.550143",
     "exception": false,
     "start_time": "2023-01-23T11:59:00.534977",
     "status": "completed"
    },
    "tags": []
   },
   "source": [
    "> # ***Kutu grafiği (Box plot)***"
   ]
  },
  {
   "cell_type": "markdown",
   "id": "019d9ecf",
   "metadata": {
    "papermill": {
     "duration": 0.015204,
     "end_time": "2023-01-23T11:59:00.580944",
     "exception": false,
     "start_time": "2023-01-23T11:59:00.565740",
     "status": "completed"
    },
    "tags": []
   },
   "source": [
    "**Kutu grafiği**, genellikle aykırı değerleri bulmak için kullandığımız bir grafik türüdür."
   ]
  },
  {
   "cell_type": "markdown",
   "id": "fc3b4e4f",
   "metadata": {
    "papermill": {
     "duration": 0.015329,
     "end_time": "2023-01-23T11:59:00.613830",
     "exception": false,
     "start_time": "2023-01-23T11:59:00.598501",
     "status": "completed"
    },
    "tags": []
   },
   "source": [
    "### Hadi örnek üzerinde gösterelim!!"
   ]
  },
  {
   "cell_type": "code",
   "execution_count": 8,
   "id": "cf961f26",
   "metadata": {
    "execution": {
     "iopub.execute_input": "2023-01-23T11:59:00.647194Z",
     "iopub.status.busy": "2023-01-23T11:59:00.646451Z",
     "iopub.status.idle": "2023-01-23T11:59:01.243192Z",
     "shell.execute_reply": "2023-01-23T11:59:01.241738Z"
    },
    "papermill": {
     "duration": 0.616995,
     "end_time": "2023-01-23T11:59:01.245964",
     "exception": false,
     "start_time": "2023-01-23T11:59:00.628969",
     "status": "completed"
    },
    "tags": []
   },
   "outputs": [
    {
     "data": {
      "text/plain": [
       "Text(0.5, 0.98, 'Visualization')"
      ]
     },
     "execution_count": 8,
     "metadata": {},
     "output_type": "execute_result"
    },
    {
     "data": {
      "image/png": "[encoded data removed]",
      "text/plain": [
       "<Figure size 1080x360 with 3 Axes>"
      ]
     },
     "metadata": {
      "needs_background": "light"
     },
     "output_type": "display_data"
    }
   ],
   "source": [
    "fig2 = plt.figure(figsize = (15,5))\n",
    "#figsize, grafiğe bir kalıp verir.\n",
    "#İlk sayı yatay'da ikinci sayı dikeyde ölçü belirtir.\n",
    "\n",
    "a = fig2.add_subplot(131)\n",
    "#Bir satır var ve üç sütun var bunların birincisine bu grafiği yap.\n",
    "\n",
    "a.scatter(x,y)\n",
    "#Scatter plot çiz ve X eksenine x değerlerini, Y eksenine y değerlerini koy.\n",
    "\n",
    "a.set_title('Scatter plot')\n",
    "\n",
    "a.set_xlabel(\"x\")\n",
    "\n",
    "b = fig2.add_subplot(132)\n",
    "#Bir satır var ve üç sütun var bunların ikincisine bu grafiği yap.\n",
    "\n",
    "b.hist(y)\n",
    "#Histogram oluştur ve X eksenine y değerlerini koy.\n",
    "\n",
    "b.set_title('Histogram')\n",
    "\n",
    "c = fig2.add_subplot(133)\n",
    "#Bir satır var ve üç sütun var bunların üçüncüsüne bu grafiği yap.\n",
    "\n",
    "c.boxplot([y,z])\n",
    "#Bir kutu grafiği oluştur ve X eksenine y, Y eksenine z değerlerini koy.\n",
    "\n",
    "c.set_title('Box plot')\n",
    "\n",
    "fig2.suptitle('Visualization')\n",
    "#suptitle = super title, yani bu 3 grafiğin tamamının başlığını ayarlamak için kullanılır."
   ]
  },
  {
   "cell_type": "markdown",
   "id": "bd653c63",
   "metadata": {
    "papermill": {
     "duration": 0.015479,
     "end_time": "2023-01-23T11:59:01.277211",
     "exception": false,
     "start_time": "2023-01-23T11:59:01.261732",
     "status": "completed"
    },
    "tags": []
   },
   "source": [
    "---"
   ]
  },
  {
   "cell_type": "markdown",
   "id": "b1b3e568",
   "metadata": {
    "papermill": {
     "duration": 0.015545,
     "end_time": "2023-01-23T11:59:01.308231",
     "exception": false,
     "start_time": "2023-01-23T11:59:01.292686",
     "status": "completed"
    },
    "tags": []
   },
   "source": [
    "# **Hadi Titanic verisetini kullanarak örnekler yapalım !**"
   ]
  },
  {
   "cell_type": "markdown",
   "id": "45abc2c8",
   "metadata": {
    "papermill": {
     "duration": 0.015945,
     "end_time": "2023-01-23T11:59:01.339776",
     "exception": false,
     "start_time": "2023-01-23T11:59:01.323831",
     "status": "completed"
    },
    "tags": []
   },
   "source": [
    "***Pandas kütüphanemizi ekliyelim***"
   ]
  },
  {
   "cell_type": "code",
   "execution_count": 9,
   "id": "ce4aadad",
   "metadata": {
    "execution": {
     "iopub.execute_input": "2023-01-23T11:59:01.373188Z",
     "iopub.status.busy": "2023-01-23T11:59:01.372403Z",
     "iopub.status.idle": "2023-01-23T11:59:01.376901Z",
     "shell.execute_reply": "2023-01-23T11:59:01.375996Z"
    },
    "papermill": {
     "duration": 0.023763,
     "end_time": "2023-01-23T11:59:01.379143",
     "exception": false,
     "start_time": "2023-01-23T11:59:01.355380",
     "status": "completed"
    },
    "tags": []
   },
   "outputs": [],
   "source": [
    "import pandas as pd"
   ]
  },
  {
   "cell_type": "markdown",
   "id": "19b22819",
   "metadata": {
    "papermill": {
     "duration": 0.015135,
     "end_time": "2023-01-23T11:59:01.409753",
     "exception": false,
     "start_time": "2023-01-23T11:59:01.394618",
     "status": "completed"
    },
    "tags": []
   },
   "source": [
    "## Veri okuma"
   ]
  },
  {
   "cell_type": "markdown",
   "id": "e2527048",
   "metadata": {
    "papermill": {
     "duration": 0.015145,
     "end_time": "2023-01-23T11:59:01.440230",
     "exception": false,
     "start_time": "2023-01-23T11:59:01.425085",
     "status": "completed"
    },
    "tags": []
   },
   "source": [
    "Eğer veri okumayı bilmiyorsanız [**bu yazımı**](https://medium.com/@ahmettalhabektas_tr/veri-d%C3%BCnyas%C4%B1na-i%CC%87lk-ad%C4%B1mlar-3044f0d42170) veya [**bu notebookumu**](https://www.kaggle.com/code/ahmettalhabektastr/veri-d-nyas-na-lk-ad-mlar/notebook) okumanızı öneriyorum."
   ]
  },
  {
   "cell_type": "code",
   "execution_count": 10,
   "id": "4b606b4e",
   "metadata": {
    "execution": {
     "iopub.execute_input": "2023-01-23T11:59:01.473550Z",
     "iopub.status.busy": "2023-01-23T11:59:01.472768Z",
     "iopub.status.idle": "2023-01-23T11:59:01.494251Z",
     "shell.execute_reply": "2023-01-23T11:59:01.493099Z"
    },
    "papermill": {
     "duration": 0.041184,
     "end_time": "2023-01-23T11:59:01.496897",
     "exception": false,
     "start_time": "2023-01-23T11:59:01.455713",
     "status": "completed"
    },
    "tags": []
   },
   "outputs": [],
   "source": [
    "df=pd.read_csv('../input/titanic/train.csv')"
   ]
  },
  {
   "cell_type": "markdown",
   "id": "5fd336ff",
   "metadata": {
    "papermill": {
     "duration": 0.015707,
     "end_time": "2023-01-23T11:59:01.528754",
     "exception": false,
     "start_time": "2023-01-23T11:59:01.513047",
     "status": "completed"
    },
    "tags": []
   },
   "source": [
    "# EDA"
   ]
  },
  {
   "cell_type": "markdown",
   "id": "33656895",
   "metadata": {
    "papermill": {
     "duration": 0.015052,
     "end_time": "2023-01-23T11:59:01.559461",
     "exception": false,
     "start_time": "2023-01-23T11:59:01.544409",
     "status": "completed"
    },
    "tags": []
   },
   "source": [
    "Eğer **EDA** ile tanışmadıysanız [**bu yazımı**](https://medium.com/@ahmettalhabektas_tr/yeni-arkada%C5%9F%C4%B1m%C4%B1z-eda-ff753db4b187) veya [**bu notebookumu**](https://www.kaggle.com/code/ahmettalhabektastr/yeni-arkada-m-z-eda) ayrıca **veri filitrelemek** hakkında daha çok bilgi sahibi olmak isterseniz [**bu yazımı**](https://medium.com/@ahmettalhabektas_tr/veri-nas%C4%B1l-filitrelenir-5f12c16949ff) veya [**bu notebookumu**](https://www.kaggle.com/code/ahmettalhabektastr/veri-nas-l-filitrelenir) okumanızı tavsiye ederim 😊"
   ]
  },
  {
   "cell_type": "markdown",
   "id": "8fc9ce80",
   "metadata": {
    "papermill": {
     "duration": 0.015104,
     "end_time": "2023-01-23T11:59:01.589930",
     "exception": false,
     "start_time": "2023-01-23T11:59:01.574826",
     "status": "completed"
    },
    "tags": []
   },
   "source": [
    "#### ***Hadi başlayalım!***"
   ]
  },
  {
   "cell_type": "code",
   "execution_count": 11,
   "id": "7eb2686d",
   "metadata": {
    "execution": {
     "iopub.execute_input": "2023-01-23T11:59:01.622954Z",
     "iopub.status.busy": "2023-01-23T11:59:01.622196Z",
     "iopub.status.idle": "2023-01-23T11:59:01.644439Z",
     "shell.execute_reply": "2023-01-23T11:59:01.643438Z"
    },
    "papermill": {
     "duration": 0.04152,
     "end_time": "2023-01-23T11:59:01.646779",
     "exception": false,
     "start_time": "2023-01-23T11:59:01.605259",
     "status": "completed"
    },
    "tags": []
   },
   "outputs": [
    {
     "data": {
      "text/html": [
       "<div>\n",
       "<style scoped>\n",
       "    .dataframe tbody tr th:only-of-type {\n",
       "        vertical-align: middle;\n",
       "    }\n",
       "\n",
       "    .dataframe tbody tr th {\n",
       "        vertical-align: top;\n",
       "    }\n",
       "\n",
       "    .dataframe thead th {\n",
       "        text-align: right;\n",
       "    }\n",
       "</style>\n",
       "<table border=\"1\" class=\"dataframe\">\n",
       "  <thead>\n",
       "    <tr style=\"text-align: right;\">\n",
       "      <th></th>\n",
       "      <th>PassengerId</th>\n",
       "      <th>Survived</th>\n",
       "      <th>Pclass</th>\n",
       "      <th>Name</th>\n",
       "      <th>Sex</th>\n",
       "      <th>Age</th>\n",
       "      <th>SibSp</th>\n",
       "      <th>Parch</th>\n",
       "      <th>Ticket</th>\n",
       "      <th>Fare</th>\n",
       "      <th>Cabin</th>\n",
       "      <th>Embarked</th>\n",
       "    </tr>\n",
       "  </thead>\n",
       "  <tbody>\n",
       "    <tr>\n",
       "      <th>0</th>\n",
       "      <td>1</td>\n",
       "      <td>0</td>\n",
       "      <td>3</td>\n",
       "      <td>Braund, Mr. Owen Harris</td>\n",
       "      <td>male</td>\n",
       "      <td>22.0</td>\n",
       "      <td>1</td>\n",
       "      <td>0</td>\n",
       "      <td>A/5 21171</td>\n",
       "      <td>7.2500</td>\n",
       "      <td>NaN</td>\n",
       "      <td>S</td>\n",
       "    </tr>\n",
       "    <tr>\n",
       "      <th>1</th>\n",
       "      <td>2</td>\n",
       "      <td>1</td>\n",
       "      <td>1</td>\n",
       "      <td>Cumings, Mrs. John Bradley (Florence Briggs Th...</td>\n",
       "      <td>female</td>\n",
       "      <td>38.0</td>\n",
       "      <td>1</td>\n",
       "      <td>0</td>\n",
       "      <td>PC 17599</td>\n",
       "      <td>71.2833</td>\n",
       "      <td>C85</td>\n",
       "      <td>C</td>\n",
       "    </tr>\n",
       "    <tr>\n",
       "      <th>2</th>\n",
       "      <td>3</td>\n",
       "      <td>1</td>\n",
       "      <td>3</td>\n",
       "      <td>Heikkinen, Miss. Laina</td>\n",
       "      <td>female</td>\n",
       "      <td>26.0</td>\n",
       "      <td>0</td>\n",
       "      <td>0</td>\n",
       "      <td>STON/O2. 3101282</td>\n",
       "      <td>7.9250</td>\n",
       "      <td>NaN</td>\n",
       "      <td>S</td>\n",
       "    </tr>\n",
       "    <tr>\n",
       "      <th>3</th>\n",
       "      <td>4</td>\n",
       "      <td>1</td>\n",
       "      <td>1</td>\n",
       "      <td>Futrelle, Mrs. Jacques Heath (Lily May Peel)</td>\n",
       "      <td>female</td>\n",
       "      <td>35.0</td>\n",
       "      <td>1</td>\n",
       "      <td>0</td>\n",
       "      <td>113803</td>\n",
       "      <td>53.1000</td>\n",
       "      <td>C123</td>\n",
       "      <td>S</td>\n",
       "    </tr>\n",
       "    <tr>\n",
       "      <th>4</th>\n",
       "      <td>5</td>\n",
       "      <td>0</td>\n",
       "      <td>3</td>\n",
       "      <td>Allen, Mr. William Henry</td>\n",
       "      <td>male</td>\n",
       "      <td>35.0</td>\n",
       "      <td>0</td>\n",
       "      <td>0</td>\n",
       "      <td>373450</td>\n",
       "      <td>8.0500</td>\n",
       "      <td>NaN</td>\n",
       "      <td>S</td>\n",
       "    </tr>\n",
       "  </tbody>\n",
       "</table>\n",
       "</div>"
      ],
      "text/plain": [
       "   PassengerId  Survived  Pclass  \\\n",
       "0            1         0       3   \n",
       "1            2         1       1   \n",
       "2            3         1       3   \n",
       "3            4         1       1   \n",
       "4            5         0       3   \n",
       "\n",
       "                                                Name     Sex   Age  SibSp  \\\n",
       "0                            Braund, Mr. Owen Harris    male  22.0      1   \n",
       "1  Cumings, Mrs. John Bradley (Florence Briggs Th...  female  38.0      1   \n",
       "2                             Heikkinen, Miss. Laina  female  26.0      0   \n",
       "3       Futrelle, Mrs. Jacques Heath (Lily May Peel)  female  35.0      1   \n",
       "4                           Allen, Mr. William Henry    male  35.0      0   \n",
       "\n",
       "   Parch            Ticket     Fare Cabin Embarked  \n",
       "0      0         A/5 21171   7.2500   NaN        S  \n",
       "1      0          PC 17599  71.2833   C85        C  \n",
       "2      0  STON/O2. 3101282   7.9250   NaN        S  \n",
       "3      0            113803  53.1000  C123        S  \n",
       "4      0            373450   8.0500   NaN        S  "
      ]
     },
     "execution_count": 11,
     "metadata": {},
     "output_type": "execute_result"
    }
   ],
   "source": [
    "df.head()"
   ]
  },
  {
   "cell_type": "code",
   "execution_count": 12,
   "id": "3326708d",
   "metadata": {
    "execution": {
     "iopub.execute_input": "2023-01-23T11:59:01.681086Z",
     "iopub.status.busy": "2023-01-23T11:59:01.680385Z",
     "iopub.status.idle": "2023-01-23T11:59:01.696360Z",
     "shell.execute_reply": "2023-01-23T11:59:01.695493Z"
    },
    "papermill": {
     "duration": 0.035484,
     "end_time": "2023-01-23T11:59:01.698628",
     "exception": false,
     "start_time": "2023-01-23T11:59:01.663144",
     "status": "completed"
    },
    "tags": []
   },
   "outputs": [
    {
     "data": {
      "text/html": [
       "<div>\n",
       "<style scoped>\n",
       "    .dataframe tbody tr th:only-of-type {\n",
       "        vertical-align: middle;\n",
       "    }\n",
       "\n",
       "    .dataframe tbody tr th {\n",
       "        vertical-align: top;\n",
       "    }\n",
       "\n",
       "    .dataframe thead th {\n",
       "        text-align: right;\n",
       "    }\n",
       "</style>\n",
       "<table border=\"1\" class=\"dataframe\">\n",
       "  <thead>\n",
       "    <tr style=\"text-align: right;\">\n",
       "      <th></th>\n",
       "      <th>PassengerId</th>\n",
       "      <th>Survived</th>\n",
       "      <th>Pclass</th>\n",
       "      <th>Name</th>\n",
       "      <th>Sex</th>\n",
       "      <th>Age</th>\n",
       "      <th>SibSp</th>\n",
       "      <th>Parch</th>\n",
       "      <th>Ticket</th>\n",
       "      <th>Fare</th>\n",
       "      <th>Cabin</th>\n",
       "      <th>Embarked</th>\n",
       "    </tr>\n",
       "  </thead>\n",
       "  <tbody>\n",
       "    <tr>\n",
       "      <th>886</th>\n",
       "      <td>887</td>\n",
       "      <td>0</td>\n",
       "      <td>2</td>\n",
       "      <td>Montvila, Rev. Juozas</td>\n",
       "      <td>male</td>\n",
       "      <td>27.0</td>\n",
       "      <td>0</td>\n",
       "      <td>0</td>\n",
       "      <td>211536</td>\n",
       "      <td>13.00</td>\n",
       "      <td>NaN</td>\n",
       "      <td>S</td>\n",
       "    </tr>\n",
       "    <tr>\n",
       "      <th>887</th>\n",
       "      <td>888</td>\n",
       "      <td>1</td>\n",
       "      <td>1</td>\n",
       "      <td>Graham, Miss. Margaret Edith</td>\n",
       "      <td>female</td>\n",
       "      <td>19.0</td>\n",
       "      <td>0</td>\n",
       "      <td>0</td>\n",
       "      <td>112053</td>\n",
       "      <td>30.00</td>\n",
       "      <td>B42</td>\n",
       "      <td>S</td>\n",
       "    </tr>\n",
       "    <tr>\n",
       "      <th>888</th>\n",
       "      <td>889</td>\n",
       "      <td>0</td>\n",
       "      <td>3</td>\n",
       "      <td>Johnston, Miss. Catherine Helen \"Carrie\"</td>\n",
       "      <td>female</td>\n",
       "      <td>NaN</td>\n",
       "      <td>1</td>\n",
       "      <td>2</td>\n",
       "      <td>W./C. 6607</td>\n",
       "      <td>23.45</td>\n",
       "      <td>NaN</td>\n",
       "      <td>S</td>\n",
       "    </tr>\n",
       "    <tr>\n",
       "      <th>889</th>\n",
       "      <td>890</td>\n",
       "      <td>1</td>\n",
       "      <td>1</td>\n",
       "      <td>Behr, Mr. Karl Howell</td>\n",
       "      <td>male</td>\n",
       "      <td>26.0</td>\n",
       "      <td>0</td>\n",
       "      <td>0</td>\n",
       "      <td>111369</td>\n",
       "      <td>30.00</td>\n",
       "      <td>C148</td>\n",
       "      <td>C</td>\n",
       "    </tr>\n",
       "    <tr>\n",
       "      <th>890</th>\n",
       "      <td>891</td>\n",
       "      <td>0</td>\n",
       "      <td>3</td>\n",
       "      <td>Dooley, Mr. Patrick</td>\n",
       "      <td>male</td>\n",
       "      <td>32.0</td>\n",
       "      <td>0</td>\n",
       "      <td>0</td>\n",
       "      <td>370376</td>\n",
       "      <td>7.75</td>\n",
       "      <td>NaN</td>\n",
       "      <td>Q</td>\n",
       "    </tr>\n",
       "  </tbody>\n",
       "</table>\n",
       "</div>"
      ],
      "text/plain": [
       "     PassengerId  Survived  Pclass                                      Name  \\\n",
       "886          887         0       2                     Montvila, Rev. Juozas   \n",
       "887          888         1       1              Graham, Miss. Margaret Edith   \n",
       "888          889         0       3  Johnston, Miss. Catherine Helen \"Carrie\"   \n",
       "889          890         1       1                     Behr, Mr. Karl Howell   \n",
       "890          891         0       3                       Dooley, Mr. Patrick   \n",
       "\n",
       "        Sex   Age  SibSp  Parch      Ticket   Fare Cabin Embarked  \n",
       "886    male  27.0      0      0      211536  13.00   NaN        S  \n",
       "887  female  19.0      0      0      112053  30.00   B42        S  \n",
       "888  female   NaN      1      2  W./C. 6607  23.45   NaN        S  \n",
       "889    male  26.0      0      0      111369  30.00  C148        C  \n",
       "890    male  32.0      0      0      370376   7.75   NaN        Q  "
      ]
     },
     "execution_count": 12,
     "metadata": {},
     "output_type": "execute_result"
    }
   ],
   "source": [
    "df.tail()"
   ]
  },
  {
   "cell_type": "code",
   "execution_count": 13,
   "id": "77a0149a",
   "metadata": {
    "execution": {
     "iopub.execute_input": "2023-01-23T11:59:01.733115Z",
     "iopub.status.busy": "2023-01-23T11:59:01.732370Z",
     "iopub.status.idle": "2023-01-23T11:59:01.761537Z",
     "shell.execute_reply": "2023-01-23T11:59:01.759792Z"
    },
    "papermill": {
     "duration": 0.049534,
     "end_time": "2023-01-23T11:59:01.764383",
     "exception": false,
     "start_time": "2023-01-23T11:59:01.714849",
     "status": "completed"
    },
    "tags": []
   },
   "outputs": [
    {
     "name": "stdout",
     "output_type": "stream",
     "text": [
      "<class 'pandas.core.frame.DataFrame'>\n",
      "RangeIndex: 891 entries, 0 to 890\n",
      "Data columns (total 12 columns):\n",
      " #   Column       Non-Null Count  Dtype  \n",
      "---  ------       --------------  -----  \n",
      " 0   PassengerId  891 non-null    int64  \n",
      " 1   Survived     891 non-null    int64  \n",
      " 2   Pclass       891 non-null    int64  \n",
      " 3   Name         891 non-null    object \n",
      " 4   Sex          891 non-null    object \n",
      " 5   Age          714 non-null    float64\n",
      " 6   SibSp        891 non-null    int64  \n",
      " 7   Parch        891 non-null    int64  \n",
      " 8   Ticket       891 non-null    object \n",
      " 9   Fare         891 non-null    float64\n",
      " 10  Cabin        204 non-null    object \n",
      " 11  Embarked     889 non-null    object \n",
      "dtypes: float64(2), int64(5), object(5)\n",
      "memory usage: 83.7+ KB\n"
     ]
    }
   ],
   "source": [
    "df.info()"
   ]
  },
  {
   "cell_type": "code",
   "execution_count": 14,
   "id": "e2248592",
   "metadata": {
    "execution": {
     "iopub.execute_input": "2023-01-23T11:59:01.798807Z",
     "iopub.status.busy": "2023-01-23T11:59:01.798393Z",
     "iopub.status.idle": "2023-01-23T11:59:01.809032Z",
     "shell.execute_reply": "2023-01-23T11:59:01.807757Z"
    },
    "papermill": {
     "duration": 0.03076,
     "end_time": "2023-01-23T11:59:01.811426",
     "exception": false,
     "start_time": "2023-01-23T11:59:01.780666",
     "status": "completed"
    },
    "tags": []
   },
   "outputs": [
    {
     "data": {
      "text/plain": [
       "PassengerId      0\n",
       "Survived         0\n",
       "Pclass           0\n",
       "Name             0\n",
       "Sex              0\n",
       "Age            177\n",
       "SibSp            0\n",
       "Parch            0\n",
       "Ticket           0\n",
       "Fare             0\n",
       "Cabin          687\n",
       "Embarked         2\n",
       "dtype: int64"
      ]
     },
     "execution_count": 14,
     "metadata": {},
     "output_type": "execute_result"
    }
   ],
   "source": [
    "df.isnull().sum()"
   ]
  },
  {
   "cell_type": "markdown",
   "id": "f75149b4",
   "metadata": {
    "papermill": {
     "duration": 0.017042,
     "end_time": "2023-01-23T11:59:01.845117",
     "exception": false,
     "start_time": "2023-01-23T11:59:01.828075",
     "status": "completed"
    },
    "tags": []
   },
   "source": [
    "Gördüğünüz üzere yaş verisinde 177 eksik veri var.Henüz eksik veriler ile nasıl başa çıkıldığını göstermediğimden bu eksik verileri almadan yolumuza devam edicem."
   ]
  },
  {
   "cell_type": "markdown",
   "id": "44ade51a",
   "metadata": {
    "papermill": {
     "duration": 0.015961,
     "end_time": "2023-01-23T11:59:01.877507",
     "exception": false,
     "start_time": "2023-01-23T11:59:01.861546",
     "status": "completed"
    },
    "tags": []
   },
   "source": [
    "**Eksik yaş verileri olmayan yeni bir DataFrame oluşturalım!**"
   ]
  },
  {
   "cell_type": "code",
   "execution_count": 15,
   "id": "7f9d4ad6",
   "metadata": {
    "execution": {
     "iopub.execute_input": "2023-01-23T11:59:01.913380Z",
     "iopub.status.busy": "2023-01-23T11:59:01.912210Z",
     "iopub.status.idle": "2023-01-23T11:59:01.920770Z",
     "shell.execute_reply": "2023-01-23T11:59:01.919618Z"
    },
    "papermill": {
     "duration": 0.029588,
     "end_time": "2023-01-23T11:59:01.923406",
     "exception": false,
     "start_time": "2023-01-23T11:59:01.893818",
     "status": "completed"
    },
    "tags": []
   },
   "outputs": [],
   "source": [
    "eksiksiz = df[df['Age'].notnull()]"
   ]
  },
  {
   "cell_type": "markdown",
   "id": "4a251ecc",
   "metadata": {
    "papermill": {
     "duration": 0.016896,
     "end_time": "2023-01-23T11:59:01.956941",
     "exception": false,
     "start_time": "2023-01-23T11:59:01.940045",
     "status": "completed"
    },
    "tags": []
   },
   "source": [
    "### **Hadi makyaj yapmaya başlayalım💄**"
   ]
  },
  {
   "cell_type": "code",
   "execution_count": 16,
   "id": "7af9dae8",
   "metadata": {
    "execution": {
     "iopub.execute_input": "2023-01-23T11:59:01.991930Z",
     "iopub.status.busy": "2023-01-23T11:59:01.991110Z",
     "iopub.status.idle": "2023-01-23T11:59:02.549131Z",
     "shell.execute_reply": "2023-01-23T11:59:02.547819Z"
    },
    "papermill": {
     "duration": 0.578345,
     "end_time": "2023-01-23T11:59:02.551836",
     "exception": false,
     "start_time": "2023-01-23T11:59:01.973491",
     "status": "completed"
    },
    "tags": []
   },
   "outputs": [
    {
     "data": {
      "image/png": "[encoded data removed]",
      "text/plain": [
       "<Figure size 720x432 with 4 Axes>"
      ]
     },
     "metadata": {
      "needs_background": "light"
     },
     "output_type": "display_data"
    }
   ],
   "source": [
    "ship = plt.figure(figsize = (10,6))\n",
    "\n",
    "hist = ship.add_subplot(221)\n",
    "#İki satır var ve iki sütun var bunların birincisine bu grafiği yap.\n",
    "\n",
    "hist.hist(eksiksiz['Age'])\n",
    "#Yaş verilerinin x ekseninde olduğu bir histogram yap.\n",
    "\n",
    "scatter = ship.add_subplot(222)\n",
    "#İki satır var ve iki sütun var bunların ikincisine bu grafiği yap.\n",
    "\n",
    "scatter.scatter(eksiksiz['Age'], eksiksiz['Fare'])\n",
    "#X ekseninde yaş ve Y ekseninde ücret değerlerinin olduğu bir dağılım grafiği yap\n",
    "\n",
    "box1= ship.add_subplot(223)\n",
    "#İki satır var ve iki sütun var bunların üçüncüsüne bu grafiği yap.\n",
    "\n",
    "box1.boxplot([eksiksiz[eksiksiz['Survived'] == 0]['Age'],\n",
    "            eksiksiz[eksiksiz['Survived'] == 1]['Age']],\n",
    "           labels = ['Ölen', 'Hayatta kalan'])\n",
    "\n",
    "box2 = ship.add_subplot(224)\n",
    "#İki satır var ve iki sütun var bunların dördüncüsüne bu grafiği yap.\n",
    "\n",
    "box2.boxplot([eksiksiz[eksiksiz['Sex'] == 'male']['Age'],\n",
    "            eksiksiz[eksiksiz['Sex'] == 'female']['Age']],\n",
    "           labels = ['Erkek', 'Kadın']);"
   ]
  },
  {
   "cell_type": "markdown",
   "id": "7f32c2c8",
   "metadata": {
    "papermill": {
     "duration": 0.01717,
     "end_time": "2023-01-23T11:59:02.586639",
     "exception": false,
     "start_time": "2023-01-23T11:59:02.569469",
     "status": "completed"
    },
    "tags": []
   },
   "source": [
    "## **Farklı örnekler…**"
   ]
  },
  {
   "cell_type": "code",
   "execution_count": 17,
   "id": "703f9818",
   "metadata": {
    "execution": {
     "iopub.execute_input": "2023-01-23T11:59:02.624506Z",
     "iopub.status.busy": "2023-01-23T11:59:02.623645Z",
     "iopub.status.idle": "2023-01-23T11:59:02.895059Z",
     "shell.execute_reply": "2023-01-23T11:59:02.893706Z"
    },
    "papermill": {
     "duration": 0.292585,
     "end_time": "2023-01-23T11:59:02.897906",
     "exception": false,
     "start_time": "2023-01-23T11:59:02.605321",
     "status": "completed"
    },
    "tags": []
   },
   "outputs": [
    {
     "data": {
      "text/plain": [
       "<AxesSubplot:title={'center':'Scatter Plot'}, xlabel='Age', ylabel='Fare'>"
      ]
     },
     "execution_count": 17,
     "metadata": {},
     "output_type": "execute_result"
    },
    {
     "data": {
      "image/png": "[encoded data removed]",
      "text/plain": [
       "<Figure size 432x288 with 1 Axes>"
      ]
     },
     "metadata": {
      "needs_background": "light"
     },
     "output_type": "display_data"
    }
   ],
   "source": [
    "df.plot.scatter(x=\"Age\",y=\"Fare\",title=\"Scatter Plot\")\n",
    "#x ekseninde yaş, y ekseninde bilet ücretlerinin olduğu bir scatter plot çiz ve  başlığı \"Scatter Plot\" yap"
   ]
  },
  {
   "cell_type": "code",
   "execution_count": 18,
   "id": "d0e7879b",
   "metadata": {
    "execution": {
     "iopub.execute_input": "2023-01-23T11:59:02.937063Z",
     "iopub.status.busy": "2023-01-23T11:59:02.936654Z",
     "iopub.status.idle": "2023-01-23T11:59:03.194452Z",
     "shell.execute_reply": "2023-01-23T11:59:03.193130Z"
    },
    "papermill": {
     "duration": 0.280326,
     "end_time": "2023-01-23T11:59:03.197128",
     "exception": false,
     "start_time": "2023-01-23T11:59:02.916802",
     "status": "completed"
    },
    "tags": []
   },
   "outputs": [
    {
     "data": {
      "text/plain": [
       "<AxesSubplot:ylabel='Frequency'>"
      ]
     },
     "execution_count": 18,
     "metadata": {},
     "output_type": "execute_result"
    },
    {
     "data": {
      "image/png": "[encoded data removed]",
      "text/plain": [
       "<Figure size 432x288 with 1 Axes>"
      ]
     },
     "metadata": {
      "needs_background": "light"
     },
     "output_type": "display_data"
    }
   ],
   "source": [
    "df.Age.plot.hist()\n",
    "#x ekseninde Yaş değerleri olan bir histogram çiz\n",
    "#Eğer kodun sonuna \";\" noktalı virgül koymazsanız karşınıza böyle bir şey çıkabilir:\n",
    "# \"<AxesSubplot:ylabel='Frequency'>\"."
   ]
  },
  {
   "cell_type": "code",
   "execution_count": 19,
   "id": "8fa79868",
   "metadata": {
    "execution": {
     "iopub.execute_input": "2023-01-23T11:59:03.239396Z",
     "iopub.status.busy": "2023-01-23T11:59:03.238316Z",
     "iopub.status.idle": "2023-01-23T11:59:03.485660Z",
     "shell.execute_reply": "2023-01-23T11:59:03.484413Z"
    },
    "papermill": {
     "duration": 0.271826,
     "end_time": "2023-01-23T11:59:03.488053",
     "exception": false,
     "start_time": "2023-01-23T11:59:03.216227",
     "status": "completed"
    },
    "tags": []
   },
   "outputs": [
    {
     "data": {
      "image/png": "[encoded data removed]",
      "text/plain": [
       "<Figure size 432x288 with 1 Axes>"
      ]
     },
     "metadata": {
      "needs_background": "light"
     },
     "output_type": "display_data"
    }
   ],
   "source": [
    "df.Age.plot.hist();"
   ]
  },
  {
   "cell_type": "code",
   "execution_count": 20,
   "id": "2053e505",
   "metadata": {
    "execution": {
     "iopub.execute_input": "2023-01-23T11:59:03.527954Z",
     "iopub.status.busy": "2023-01-23T11:59:03.527524Z",
     "iopub.status.idle": "2023-01-23T11:59:03.722242Z",
     "shell.execute_reply": "2023-01-23T11:59:03.721068Z"
    },
    "papermill": {
     "duration": 0.217835,
     "end_time": "2023-01-23T11:59:03.724855",
     "exception": false,
     "start_time": "2023-01-23T11:59:03.507020",
     "status": "completed"
    },
    "tags": []
   },
   "outputs": [
    {
     "data": {
      "image/png": "[encoded data removed]",
      "text/plain": [
       "<Figure size 432x288 with 1 Axes>"
      ]
     },
     "metadata": {
      "needs_background": "light"
     },
     "output_type": "display_data"
    }
   ],
   "source": [
    "df.Pclass.value_counts().sort_index().plot.bar();\n",
    "#X ekseninde \"Pclass\" sütündaki değerlerin toplmaının sıralanmış halinin bulunduğu dikey bar grafiği çiz"
   ]
  },
  {
   "cell_type": "code",
   "execution_count": 21,
   "id": "ccc0f3a6",
   "metadata": {
    "execution": {
     "iopub.execute_input": "2023-01-23T11:59:03.763505Z",
     "iopub.status.busy": "2023-01-23T11:59:03.763081Z",
     "iopub.status.idle": "2023-01-23T11:59:03.959557Z",
     "shell.execute_reply": "2023-01-23T11:59:03.958147Z"
    },
    "papermill": {
     "duration": 0.219225,
     "end_time": "2023-01-23T11:59:03.962268",
     "exception": false,
     "start_time": "2023-01-23T11:59:03.743043",
     "status": "completed"
    },
    "tags": []
   },
   "outputs": [
    {
     "data": {
      "image/png": "[encoded data removed]",
      "text/plain": [
       "<Figure size 432x288 with 1 Axes>"
      ]
     },
     "metadata": {
      "needs_background": "light"
     },
     "output_type": "display_data"
    }
   ],
   "source": [
    "df.Pclass.value_counts().sort_index().plot.barh();\n",
    "#Y ekseninde \"Pclass\" sütündaki değerlerin toplmaının sıralanmış halinin bulunduğu yatay bar grafiği çiz"
   ]
  },
  {
   "cell_type": "markdown",
   "id": "b68b7adf",
   "metadata": {
    "papermill": {
     "duration": 0.018864,
     "end_time": "2023-01-23T11:59:04.001622",
     "exception": false,
     "start_time": "2023-01-23T11:59:03.982758",
     "status": "completed"
    },
    "tags": []
   },
   "source": [
    "## **Makyajımız henüz bitmedi!**"
   ]
  },
  {
   "cell_type": "markdown",
   "id": "f653e2eb",
   "metadata": {
    "papermill": {
     "duration": 0.017912,
     "end_time": "2023-01-23T11:59:04.038515",
     "exception": false,
     "start_time": "2023-01-23T11:59:04.020603",
     "status": "completed"
    },
    "tags": []
   },
   "source": [
    "**Matplotlib kütüphanesini** nasıl kullanıcağınızı öğrendiniz, eğer bu konuda daha iyi olmak isterseniz [**matplotlib dokümantosyonunu**](https://matplotlib.org/) okumalısınız."
   ]
  },
  {
   "cell_type": "markdown",
   "id": "9a653154",
   "metadata": {
    "papermill": {
     "duration": 0.017828,
     "end_time": "2023-01-23T11:59:04.075162",
     "exception": false,
     "start_time": "2023-01-23T11:59:04.057334",
     "status": "completed"
    },
    "tags": []
   },
   "source": [
    "---\n",
    "## Beklemede kalın!\n",
    "## **\"Veriye nasıl makyaj yapılır? (Part-2)\"** gelicek !"
   ]
  },
  {
   "cell_type": "markdown",
   "id": "6256d7af",
   "metadata": {
    "papermill": {
     "duration": 0.017846,
     "end_time": "2023-01-23T11:59:04.112793",
     "exception": false,
     "start_time": "2023-01-23T11:59:04.094947",
     "status": "completed"
    },
    "tags": []
   },
   "source": [
    "---\n",
    "### Yazar:\n",
    "# Ahmet Talha Bektaş\n",
    "> ## 📧 [E-mail Hesabım](mailto:atalhabektas@gmail.com)\n",
    "\n",
    "> ## 🔗 [LinkedIn Hesabım](https://www.linkedin.com/in/ahmet-talha-bekta%C5%9F-056844216)\n",
    "\n",
    "> ## 💻 [GitHub Hesabım](https://github.com/ahmettalhabektastr)\n",
    "\n",
    "> ## 👨‍💻 [Kaggle Hesabım](https://www.kaggle.com/ahmettalhabektastr)\n",
    "\n",
    "> ## 📋 [Medium Hesabım](https://medium.com/@ahmettalhabektas_tr)"
   ]
  }
 ],
 "metadata": {
  "kernelspec": {
   "display_name": "Python 3",
   "language": "python",
   "name": "python3"
  },
  "language_info": {
   "codemirror_mode": {
    "name": "ipython",
    "version": 3
   },
   "file_extension": ".py",
   "mimetype": "text/x-python",
   "name": "python",
   "nbconvert_exporter": "python",
   "pygments_lexer": "ipython3",
   "version": "3.7.12"
  },
  "papermill": {
   "default_parameters": {},
   "duration": 16.304702,
   "end_time": "2023-01-23T11:59:04.853414",
   "environment_variables": {},
   "exception": null,
   "input_path": "__notebook__.ipynb",
   "output_path": "__notebook__.ipynb",
   "parameters": {},
   "start_time": "2023-01-23T11:58:48.548712",
   "version": "2.3.4"
  }
 },
 "nbformat": 4,
 "nbformat_minor": 5
}
